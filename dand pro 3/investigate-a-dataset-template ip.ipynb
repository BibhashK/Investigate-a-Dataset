{
 "cells": [
  {
   "cell_type": "markdown",
   "metadata": {},
   "source": [
    "\n",
    "\n",
    "# Project: Investigate a Dataset (Replace this with something more specific!)\n",
    "\n",
    "## Table of Contents\n",
    "<ul>\n",
    "<li><a href=\"#intro\">Introduction</a></li>\n",
    "<li><a href=\"#wrangling\">Data Wrangling</a></li>\n",
    "<li><a href=\"#eda\">Exploratory Data Analysis</a></li>\n",
    "<li><a href=\"#conclusions\">Conclusions</a></li>\n",
    "</ul>"
   ]
  },
  {
   "cell_type": "markdown",
   "metadata": {},
   "source": [
    "<a id='intro'></a>\n",
    "## Introduction\n",
    "\n",
    "The selected dataset is the TMDB dataset which contains the data on movies as well as ratings\n",
    "\n",
    "Exploration of the following treands will be done:\n",
    "    > Runtime of movies over the years \n",
    "    > Popularity of movies over the years\n",
    "    > Revenue of movies over the years\n",
    "    \n",
    "Associations of various factors to be seen are:\n",
    "    > Revenue vs Popularity\n",
    "    > Runtime vs Popularity\n",
    "    > Runtime vs Revenue"
   ]
  },
  {
   "cell_type": "code",
   "execution_count": 62,
   "metadata": {},
   "outputs": [],
   "source": [
    "# Use this cell to set up import statements for all of the packages that you\n",
    "#   plan to use.\n",
    "\n",
    "# Remember to include a 'magic word' so that your visualizations are plotted\n",
    "#   inline with the notebook. See this page for more:\n",
    "#   http://ipython.readthedocs.io/en/stable/interactive/magics.html\n",
    "import pandas as pd \n",
    "from datetime import datetime\n",
    "import matplotlib.pyplot as plt\n",
    "% matplotlib inline"
   ]
  },
  {
   "cell_type": "markdown",
   "metadata": {},
   "source": [
    "<a id='wrangling'></a>\n",
    "## Data Wrangling\n",
    "\n",
    "> **Tip**: In this section of the report, you will load in the data, check for cleanliness, and then trim and clean your dataset for analysis. Make sure that you document your steps carefully and justify your cleaning decisions.\n",
    "\n",
    "### General Properties\n",
    "        > Rows: 4813\n",
    "        > Columns: 18"
   ]
  },
  {
   "cell_type": "code",
   "execution_count": 7,
   "metadata": {},
   "outputs": [
    {
     "data": {
      "text/plain": [
       "'C:\\\\Users\\\\hi\\\\Desktop'"
      ]
     },
     "execution_count": 7,
     "metadata": {},
     "output_type": "execute_result"
    }
   ],
   "source": [
    "pwd"
   ]
  },
  {
   "cell_type": "code",
   "execution_count": 31,
   "metadata": {},
   "outputs": [
    {
     "data": {
      "text/html": [
       "<div>\n",
       "<style>\n",
       "    .dataframe thead tr:only-child th {\n",
       "        text-align: right;\n",
       "    }\n",
       "\n",
       "    .dataframe thead th {\n",
       "        text-align: left;\n",
       "    }\n",
       "\n",
       "    .dataframe tbody tr th {\n",
       "        vertical-align: top;\n",
       "    }\n",
       "</style>\n",
       "<table border=\"1\" class=\"dataframe\">\n",
       "  <thead>\n",
       "    <tr style=\"text-align: right;\">\n",
       "      <th></th>\n",
       "      <th>budget</th>\n",
       "      <th>homepage</th>\n",
       "      <th>id</th>\n",
       "      <th>original_language</th>\n",
       "      <th>original_title</th>\n",
       "      <th>overview</th>\n",
       "      <th>popularity</th>\n",
       "      <th>release_date</th>\n",
       "      <th>revenue</th>\n",
       "      <th>runtime</th>\n",
       "      <th>status</th>\n",
       "      <th>tagline</th>\n",
       "      <th>title</th>\n",
       "      <th>vote_average</th>\n",
       "      <th>vote_count</th>\n",
       "      <th>movie_id</th>\n",
       "      <th>cast</th>\n",
       "      <th>crew</th>\n",
       "    </tr>\n",
       "  </thead>\n",
       "  <tbody>\n",
       "    <tr>\n",
       "      <th>0</th>\n",
       "      <td>237000000.0</td>\n",
       "      <td>http://www.avatarmovie.com/</td>\n",
       "      <td>19995.0</td>\n",
       "      <td>en</td>\n",
       "      <td>Avatar</td>\n",
       "      <td>In the 22nd century, a paraplegic Marine is di...</td>\n",
       "      <td>150.437577</td>\n",
       "      <td>10-12-09</td>\n",
       "      <td>2.787965e+09</td>\n",
       "      <td>162.0</td>\n",
       "      <td>Released</td>\n",
       "      <td>Enter the World of Pandora.</td>\n",
       "      <td>Avatar</td>\n",
       "      <td>7.2</td>\n",
       "      <td>11800.0</td>\n",
       "      <td>19995.0</td>\n",
       "      <td>[{\"cast_id\": 242, \"character\": \"Jake Sully\", \"...</td>\n",
       "      <td>[{\"credit_id\": \"52fe48009251416c750aca23\", \"de...</td>\n",
       "    </tr>\n",
       "    <tr>\n",
       "      <th>1</th>\n",
       "      <td>300000000.0</td>\n",
       "      <td>http://disney.go.com/disneypictures/pirates/</td>\n",
       "      <td>285.0</td>\n",
       "      <td>en</td>\n",
       "      <td>Pirates of the Caribbean: At World's End</td>\n",
       "      <td>Captain Barbossa, long believed to be dead, ha...</td>\n",
       "      <td>139.082615</td>\n",
       "      <td>19-05-07</td>\n",
       "      <td>9.610000e+08</td>\n",
       "      <td>169.0</td>\n",
       "      <td>Released</td>\n",
       "      <td>At the end of the world, the adventure begins.</td>\n",
       "      <td>Pirates of the Caribbean: At World's End</td>\n",
       "      <td>6.9</td>\n",
       "      <td>4500.0</td>\n",
       "      <td>285.0</td>\n",
       "      <td>[{\"cast_id\": 4, \"character\": \"Captain Jack Spa...</td>\n",
       "      <td>[{\"credit_id\": \"52fe4232c3a36847f800b579\", \"de...</td>\n",
       "    </tr>\n",
       "    <tr>\n",
       "      <th>2</th>\n",
       "      <td>245000000.0</td>\n",
       "      <td>http://www.sonypictures.com/movies/spectre/</td>\n",
       "      <td>206647.0</td>\n",
       "      <td>en</td>\n",
       "      <td>Spectre</td>\n",
       "      <td>A cryptic message from Bondâ??s past sends him...</td>\n",
       "      <td>107.376788</td>\n",
       "      <td>26-10-15</td>\n",
       "      <td>8.806746e+08</td>\n",
       "      <td>148.0</td>\n",
       "      <td>Released</td>\n",
       "      <td>A Plan No One Escapes</td>\n",
       "      <td>Spectre</td>\n",
       "      <td>6.3</td>\n",
       "      <td>4466.0</td>\n",
       "      <td>206647.0</td>\n",
       "      <td>[{\"cast_id\": 1, \"character\": \"James Bond\", \"cr...</td>\n",
       "      <td>[{\"credit_id\": \"54805967c3a36829b5002c41\", \"de...</td>\n",
       "    </tr>\n",
       "  </tbody>\n",
       "</table>\n",
       "</div>"
      ],
      "text/plain": [
       "        budget                                      homepage        id  \\\n",
       "0  237000000.0                   http://www.avatarmovie.com/   19995.0   \n",
       "1  300000000.0  http://disney.go.com/disneypictures/pirates/     285.0   \n",
       "2  245000000.0   http://www.sonypictures.com/movies/spectre/  206647.0   \n",
       "\n",
       "  original_language                            original_title  \\\n",
       "0                en                                    Avatar   \n",
       "1                en  Pirates of the Caribbean: At World's End   \n",
       "2                en                                   Spectre   \n",
       "\n",
       "                                            overview  popularity release_date  \\\n",
       "0  In the 22nd century, a paraplegic Marine is di...  150.437577     10-12-09   \n",
       "1  Captain Barbossa, long believed to be dead, ha...  139.082615     19-05-07   \n",
       "2  A cryptic message from Bondâ??s past sends him...  107.376788     26-10-15   \n",
       "\n",
       "        revenue  runtime    status  \\\n",
       "0  2.787965e+09    162.0  Released   \n",
       "1  9.610000e+08    169.0  Released   \n",
       "2  8.806746e+08    148.0  Released   \n",
       "\n",
       "                                          tagline  \\\n",
       "0                     Enter the World of Pandora.   \n",
       "1  At the end of the world, the adventure begins.   \n",
       "2                           A Plan No One Escapes   \n",
       "\n",
       "                                      title  vote_average  vote_count  \\\n",
       "0                                    Avatar           7.2     11800.0   \n",
       "1  Pirates of the Caribbean: At World's End           6.9      4500.0   \n",
       "2                                   Spectre           6.3      4466.0   \n",
       "\n",
       "   movie_id                                               cast  \\\n",
       "0   19995.0  [{\"cast_id\": 242, \"character\": \"Jake Sully\", \"...   \n",
       "1     285.0  [{\"cast_id\": 4, \"character\": \"Captain Jack Spa...   \n",
       "2  206647.0  [{\"cast_id\": 1, \"character\": \"James Bond\", \"cr...   \n",
       "\n",
       "                                                crew  \n",
       "0  [{\"credit_id\": \"52fe48009251416c750aca23\", \"de...  \n",
       "1  [{\"credit_id\": \"52fe4232c3a36847f800b579\", \"de...  \n",
       "2  [{\"credit_id\": \"54805967c3a36829b5002c41\", \"de...  "
      ]
     },
     "execution_count": 31,
     "metadata": {},
     "output_type": "execute_result"
    }
   ],
   "source": [
    "# Load your data and print out a few lines. Perform operations to inspect data\n",
    "#   types and look for instances of missing or possibly errant data.\n",
    "df = pd.read_csv('movie_dataset.csv',encoding='ISO-8859-1')\n",
    "df.head(3)"
   ]
  },
  {
   "cell_type": "code",
   "execution_count": 32,
   "metadata": {},
   "outputs": [
    {
     "name": "stdout",
     "output_type": "stream",
     "text": [
      "<class 'pandas.core.frame.DataFrame'>\n",
      "RangeIndex: 4813 entries, 0 to 4812\n",
      "Data columns (total 18 columns):\n",
      "budget               4787 non-null float64\n",
      "homepage             1707 non-null object\n",
      "id                   4787 non-null float64\n",
      "original_language    4787 non-null object\n",
      "original_title       4787 non-null object\n",
      "overview             4784 non-null object\n",
      "popularity           4787 non-null float64\n",
      "release_date         4786 non-null object\n",
      "revenue              4787 non-null float64\n",
      "runtime              4785 non-null float64\n",
      "status               4787 non-null object\n",
      "tagline              3947 non-null object\n",
      "title                4787 non-null object\n",
      "vote_average         4787 non-null float64\n",
      "vote_count           4787 non-null float64\n",
      "movie_id             4787 non-null float64\n",
      "cast                 4813 non-null object\n",
      "crew                 220 non-null object\n",
      "dtypes: float64(8), object(10)\n",
      "memory usage: 676.9+ KB\n"
     ]
    }
   ],
   "source": [
    "df.info()"
   ]
  },
  {
   "cell_type": "code",
   "execution_count": 33,
   "metadata": {},
   "outputs": [
    {
     "data": {
      "text/plain": [
       "0"
      ]
     },
     "execution_count": 33,
     "metadata": {},
     "output_type": "execute_result"
    }
   ],
   "source": [
    "\n",
    "sum(df.duplicated())"
   ]
  },
  {
   "cell_type": "code",
   "execution_count": 34,
   "metadata": {},
   "outputs": [
    {
     "data": {
      "text/plain": [
       "budget                 26\n",
       "homepage             3106\n",
       "id                     26\n",
       "original_language      26\n",
       "original_title         26\n",
       "overview               29\n",
       "popularity             26\n",
       "release_date           27\n",
       "revenue                26\n",
       "runtime                28\n",
       "status                 26\n",
       "tagline               866\n",
       "title                  26\n",
       "vote_average           26\n",
       "vote_count             26\n",
       "movie_id               26\n",
       "cast                    0\n",
       "crew                 4593\n",
       "dtype: int64"
      ]
     },
     "execution_count": 34,
     "metadata": {},
     "output_type": "execute_result"
    }
   ],
   "source": [
    "df.isnull().sum()"
   ]
  },
  {
   "cell_type": "markdown",
   "metadata": {},
   "source": [
    "> **Tip**: You should _not_ perform too many operations in each cell. Create cells freely to explore your data. One option that you can take with this project is to do a lot of explorations in an initial notebook. These don't have to be organized, but make sure you use enough comments to understand the purpose of each code cell. Then, after you're done with your analysis, create a duplicate notebook where you will trim the excess and organize your steps so that you have a flowing, cohesive report.\n",
    "\n",
    "> **Tip**: Make sure that you keep your reader informed on the steps that you are taking in your investigation. Follow every code cell, or every set of related code cells, with a markdown cell to describe to the reader what was found in the preceding cell(s). Try to make it so that the reader can then understand what they will be seeing in the following cell(s).\n",
    "\n",
    "### Data Cleaning (Replace this with more specific notes!)"
   ]
  },
  {
   "cell_type": "code",
   "execution_count": 35,
   "metadata": {},
   "outputs": [
    {
     "name": "stdout",
     "output_type": "stream",
     "text": [
      "<class 'pandas.core.frame.DataFrame'>\n",
      "Int64Index: 220 entries, 0 to 219\n",
      "Data columns (total 18 columns):\n",
      "budget               220 non-null float64\n",
      "homepage             166 non-null object\n",
      "id                   220 non-null float64\n",
      "original_language    220 non-null object\n",
      "original_title       220 non-null object\n",
      "overview             220 non-null object\n",
      "popularity           220 non-null float64\n",
      "release_date         220 non-null object\n",
      "revenue              220 non-null float64\n",
      "runtime              220 non-null float64\n",
      "status               220 non-null object\n",
      "tagline              214 non-null object\n",
      "title                220 non-null object\n",
      "vote_average         220 non-null float64\n",
      "vote_count           220 non-null float64\n",
      "movie_id             220 non-null float64\n",
      "cast                 220 non-null object\n",
      "crew                 220 non-null object\n",
      "dtypes: float64(8), object(10)\n",
      "memory usage: 32.7+ KB\n"
     ]
    }
   ],
   "source": [
    "# After discussing the structure of the data and any problems that need to be\n",
    "#   cleaned, perform those cleaning steps in the second part of this section.\n",
    "df.dropna(subset=['cast','crew'], inplace=True)  \n",
    "df.info()"
   ]
  },
  {
   "cell_type": "code",
   "execution_count": 40,
   "metadata": {},
   "outputs": [
    {
     "data": {
      "text/html": [
       "<div>\n",
       "<style>\n",
       "    .dataframe thead tr:only-child th {\n",
       "        text-align: right;\n",
       "    }\n",
       "\n",
       "    .dataframe thead th {\n",
       "        text-align: left;\n",
       "    }\n",
       "\n",
       "    .dataframe tbody tr th {\n",
       "        vertical-align: top;\n",
       "    }\n",
       "</style>\n",
       "<table border=\"1\" class=\"dataframe\">\n",
       "  <thead>\n",
       "    <tr style=\"text-align: right;\">\n",
       "      <th></th>\n",
       "      <th>budget</th>\n",
       "      <th>homepage</th>\n",
       "      <th>id</th>\n",
       "      <th>original_language</th>\n",
       "      <th>original_title</th>\n",
       "      <th>overview</th>\n",
       "      <th>popularity</th>\n",
       "      <th>release_date</th>\n",
       "      <th>revenue</th>\n",
       "      <th>runtime</th>\n",
       "      <th>status</th>\n",
       "      <th>tagline</th>\n",
       "      <th>title</th>\n",
       "      <th>vote_average</th>\n",
       "      <th>vote_count</th>\n",
       "      <th>movie_id</th>\n",
       "      <th>cast</th>\n",
       "      <th>crew</th>\n",
       "    </tr>\n",
       "  </thead>\n",
       "  <tbody>\n",
       "    <tr>\n",
       "      <th>0</th>\n",
       "      <td>237000000.0</td>\n",
       "      <td>http://www.avatarmovie.com/</td>\n",
       "      <td>19995.0</td>\n",
       "      <td>en</td>\n",
       "      <td>Avatar</td>\n",
       "      <td>In the 22nd century, a paraplegic Marine is di...</td>\n",
       "      <td>150.437577</td>\n",
       "      <td>10-12-09</td>\n",
       "      <td>2.787965e+09</td>\n",
       "      <td>162.0</td>\n",
       "      <td>Released</td>\n",
       "      <td>Enter the World of Pandora.</td>\n",
       "      <td>Avatar</td>\n",
       "      <td>7.2</td>\n",
       "      <td>11800.0</td>\n",
       "      <td>19995.0</td>\n",
       "      <td>[{\"cast_id\": 242, \"character\": \"Jake Sully\", \"...</td>\n",
       "      <td>[{\"credit_id\": \"52fe48009251416c750aca23\", \"de...</td>\n",
       "    </tr>\n",
       "    <tr>\n",
       "      <th>1</th>\n",
       "      <td>300000000.0</td>\n",
       "      <td>http://disney.go.com/disneypictures/pirates/</td>\n",
       "      <td>285.0</td>\n",
       "      <td>en</td>\n",
       "      <td>Pirates of the Caribbean: At World's End</td>\n",
       "      <td>Captain Barbossa, long believed to be dead, ha...</td>\n",
       "      <td>139.082615</td>\n",
       "      <td>19-05-07</td>\n",
       "      <td>9.610000e+08</td>\n",
       "      <td>169.0</td>\n",
       "      <td>Released</td>\n",
       "      <td>At the end of the world, the adventure begins.</td>\n",
       "      <td>Pirates of the Caribbean: At World's End</td>\n",
       "      <td>6.9</td>\n",
       "      <td>4500.0</td>\n",
       "      <td>285.0</td>\n",
       "      <td>[{\"cast_id\": 4, \"character\": \"Captain Jack Spa...</td>\n",
       "      <td>[{\"credit_id\": \"52fe4232c3a36847f800b579\", \"de...</td>\n",
       "    </tr>\n",
       "    <tr>\n",
       "      <th>2</th>\n",
       "      <td>245000000.0</td>\n",
       "      <td>http://www.sonypictures.com/movies/spectre/</td>\n",
       "      <td>206647.0</td>\n",
       "      <td>en</td>\n",
       "      <td>Spectre</td>\n",
       "      <td>A cryptic message from Bondâ??s past sends him...</td>\n",
       "      <td>107.376788</td>\n",
       "      <td>26-10-15</td>\n",
       "      <td>8.806746e+08</td>\n",
       "      <td>148.0</td>\n",
       "      <td>Released</td>\n",
       "      <td>A Plan No One Escapes</td>\n",
       "      <td>Spectre</td>\n",
       "      <td>6.3</td>\n",
       "      <td>4466.0</td>\n",
       "      <td>206647.0</td>\n",
       "      <td>[{\"cast_id\": 1, \"character\": \"James Bond\", \"cr...</td>\n",
       "      <td>[{\"credit_id\": \"54805967c3a36829b5002c41\", \"de...</td>\n",
       "    </tr>\n",
       "    <tr>\n",
       "      <th>3</th>\n",
       "      <td>250000000.0</td>\n",
       "      <td>http://www.thedarkknightrises.com/</td>\n",
       "      <td>49026.0</td>\n",
       "      <td>en</td>\n",
       "      <td>The Dark Knight Rises</td>\n",
       "      <td>Following the death of District Attorney Harve...</td>\n",
       "      <td>112.312950</td>\n",
       "      <td>16-07-12</td>\n",
       "      <td>1.084939e+09</td>\n",
       "      <td>165.0</td>\n",
       "      <td>Released</td>\n",
       "      <td>The Legend Ends</td>\n",
       "      <td>The Dark Knight Rises</td>\n",
       "      <td>7.6</td>\n",
       "      <td>9106.0</td>\n",
       "      <td>49026.0</td>\n",
       "      <td>[{\"cast_id\": 2, \"character\": \"Bruce Wayne / Ba...</td>\n",
       "      <td>[{\"credit_id\": \"52fe4781c3a36847f81398c3\", \"de...</td>\n",
       "    </tr>\n",
       "    <tr>\n",
       "      <th>4</th>\n",
       "      <td>260000000.0</td>\n",
       "      <td>http://movies.disney.com/john-carter</td>\n",
       "      <td>49529.0</td>\n",
       "      <td>en</td>\n",
       "      <td>John Carter</td>\n",
       "      <td>John Carter is a war-weary, former military ca...</td>\n",
       "      <td>43.926995</td>\n",
       "      <td>07-03-12</td>\n",
       "      <td>2.841391e+08</td>\n",
       "      <td>132.0</td>\n",
       "      <td>Released</td>\n",
       "      <td>Lost in our world, found in another.</td>\n",
       "      <td>John Carter</td>\n",
       "      <td>6.1</td>\n",
       "      <td>2124.0</td>\n",
       "      <td>49529.0</td>\n",
       "      <td>[{\"cast_id\": 5, \"character\": \"John Carter\", \"c...</td>\n",
       "      <td>[{\"credit_id\": \"52fe479ac3a36847f813eaa3\", \"de...</td>\n",
       "    </tr>\n",
       "  </tbody>\n",
       "</table>\n",
       "</div>"
      ],
      "text/plain": [
       "        budget                                      homepage        id  \\\n",
       "0  237000000.0                   http://www.avatarmovie.com/   19995.0   \n",
       "1  300000000.0  http://disney.go.com/disneypictures/pirates/     285.0   \n",
       "2  245000000.0   http://www.sonypictures.com/movies/spectre/  206647.0   \n",
       "3  250000000.0            http://www.thedarkknightrises.com/   49026.0   \n",
       "4  260000000.0          http://movies.disney.com/john-carter   49529.0   \n",
       "\n",
       "  original_language                            original_title  \\\n",
       "0                en                                    Avatar   \n",
       "1                en  Pirates of the Caribbean: At World's End   \n",
       "2                en                                   Spectre   \n",
       "3                en                     The Dark Knight Rises   \n",
       "4                en                               John Carter   \n",
       "\n",
       "                                            overview  popularity release_date  \\\n",
       "0  In the 22nd century, a paraplegic Marine is di...  150.437577     10-12-09   \n",
       "1  Captain Barbossa, long believed to be dead, ha...  139.082615     19-05-07   \n",
       "2  A cryptic message from Bondâ??s past sends him...  107.376788     26-10-15   \n",
       "3  Following the death of District Attorney Harve...  112.312950     16-07-12   \n",
       "4  John Carter is a war-weary, former military ca...   43.926995     07-03-12   \n",
       "\n",
       "        revenue  runtime    status  \\\n",
       "0  2.787965e+09    162.0  Released   \n",
       "1  9.610000e+08    169.0  Released   \n",
       "2  8.806746e+08    148.0  Released   \n",
       "3  1.084939e+09    165.0  Released   \n",
       "4  2.841391e+08    132.0  Released   \n",
       "\n",
       "                                          tagline  \\\n",
       "0                     Enter the World of Pandora.   \n",
       "1  At the end of the world, the adventure begins.   \n",
       "2                           A Plan No One Escapes   \n",
       "3                                 The Legend Ends   \n",
       "4            Lost in our world, found in another.   \n",
       "\n",
       "                                      title  vote_average  vote_count  \\\n",
       "0                                    Avatar           7.2     11800.0   \n",
       "1  Pirates of the Caribbean: At World's End           6.9      4500.0   \n",
       "2                                   Spectre           6.3      4466.0   \n",
       "3                     The Dark Knight Rises           7.6      9106.0   \n",
       "4                               John Carter           6.1      2124.0   \n",
       "\n",
       "   movie_id                                               cast  \\\n",
       "0   19995.0  [{\"cast_id\": 242, \"character\": \"Jake Sully\", \"...   \n",
       "1     285.0  [{\"cast_id\": 4, \"character\": \"Captain Jack Spa...   \n",
       "2  206647.0  [{\"cast_id\": 1, \"character\": \"James Bond\", \"cr...   \n",
       "3   49026.0  [{\"cast_id\": 2, \"character\": \"Bruce Wayne / Ba...   \n",
       "4   49529.0  [{\"cast_id\": 5, \"character\": \"John Carter\", \"c...   \n",
       "\n",
       "                                                crew  \n",
       "0  [{\"credit_id\": \"52fe48009251416c750aca23\", \"de...  \n",
       "1  [{\"credit_id\": \"52fe4232c3a36847f800b579\", \"de...  \n",
       "2  [{\"credit_id\": \"54805967c3a36829b5002c41\", \"de...  \n",
       "3  [{\"credit_id\": \"52fe4781c3a36847f81398c3\", \"de...  \n",
       "4  [{\"credit_id\": \"52fe479ac3a36847f813eaa3\", \"de...  "
      ]
     },
     "execution_count": 40,
     "metadata": {},
     "output_type": "execute_result"
    }
   ],
   "source": [
    "df.head()"
   ]
  },
  {
   "cell_type": "markdown",
   "metadata": {},
   "source": [
    "<a id='eda'></a>\n",
    "## Exploratory Data Analysis\n",
    "\n",
    "> **Tip**: Now that you've trimmed and cleaned your data, you're ready to move on to exploration. Compute statistics and create visualizations with the goal of addressing the research questions that you posed in the Introduction section. It is recommended that you be systematic with your approach. Look at one variable at a time, and then follow it up by looking at relationships between variables.\n",
    "\n",
    "### Research Question 1:\n",
    "    what are the treands of runtimes, popularity and revenues over time ?\n",
    "    "
   ]
  },
  {
   "cell_type": "code",
   "execution_count": 36,
   "metadata": {},
   "outputs": [
    {
     "name": "stdout",
     "output_type": "stream",
     "text": [
      "<class 'pandas.core.frame.DataFrame'>\n",
      "RangeIndex: 4813 entries, 0 to 4812\n",
      "Data columns (total 18 columns):\n",
      "budget               4787 non-null float64\n",
      "homepage             1707 non-null object\n",
      "id                   4787 non-null float64\n",
      "original_language    4787 non-null object\n",
      "original_title       4787 non-null object\n",
      "overview             4784 non-null object\n",
      "popularity           4787 non-null float64\n",
      "release_date         4786 non-null object\n",
      "revenue              4787 non-null float64\n",
      "runtime              4785 non-null float64\n",
      "status               4787 non-null object\n",
      "tagline              3947 non-null object\n",
      "title                4787 non-null object\n",
      "vote_average         4787 non-null float64\n",
      "vote_count           4787 non-null float64\n",
      "movie_id             4787 non-null float64\n",
      "cast                 4813 non-null object\n",
      "crew                 220 non-null object\n",
      "dtypes: float64(8), object(10)\n",
      "memory usage: 676.9+ KB\n"
     ]
    }
   ],
   "source": [
    "# Use this, and more code cells, to explore your data. Don't forget to add\n",
    "#   Markdown cells to document your observations and findings.\n",
    "df = pd.read_csv('movie_dataset.csv' ,encoding='ISO-8859-1')\n",
    "df.info()"
   ]
  },
  {
   "cell_type": "code",
   "execution_count": 37,
   "metadata": {},
   "outputs": [],
   "source": [
    "df_new = df.groupby('release_date').mean()"
   ]
  },
  {
   "cell_type": "code",
   "execution_count": 41,
   "metadata": {},
   "outputs": [
    {
     "data": {
      "image/png": "[encoded data removed]",
      "text/plain": [
       "<matplotlib.figure.Figure at 0x215a279a080>"
      ]
     },
     "metadata": {},
     "output_type": "display_data"
    }
   ],
   "source": [
    "df_new.hist(figsize=(20,20));"
   ]
  },
  {
   "cell_type": "markdown",
   "metadata": {},
   "source": [
    "# Runtime"
   ]
  },
  {
   "cell_type": "markdown",
   "metadata": {},
   "source": [
    "We wish to determine if over the years, there is popular movie running duration\n",
    "Accordingly, we use a histogram to observe the counts of movie runtimes from our new dataset\n",
    "Maximum counts will reflect the duration that most movies run"
   ]
  },
  {
   "cell_type": "code",
   "execution_count": 45,
   "metadata": {},
   "outputs": [
    {
     "data": {
      "image/png": "[encoded data removed]",
      "text/plain": [
       "<matplotlib.figure.Figure at 0x215a6091a90>"
      ]
     },
     "metadata": {},
     "output_type": "display_data"
    }
   ],
   "source": [
    "\n",
    "df_new['runtime'].hist(bins=30)\n",
    "plt.xlabel('Runtime')\n",
    "plt.ylabel('Counts')\n",
    "plt.title('Runtime Over the Years');"
   ]
  },
  {
   "cell_type": "code",
   "execution_count": 23,
   "metadata": {},
   "outputs": [
    {
     "data": {
      "text/plain": [
       "count    3264.000000\n",
       "mean      107.672104\n",
       "std        21.070758\n",
       "min         0.000000\n",
       "25%        96.000000\n",
       "50%       104.500000\n",
       "75%       117.000000\n",
       "max       276.000000\n",
       "Name: runtime, dtype: float64"
      ]
     },
     "execution_count": 23,
     "metadata": {},
     "output_type": "execute_result"
    }
   ],
   "source": [
    "df_new['runtime'].describe()"
   ]
  },
  {
   "cell_type": "markdown",
   "metadata": {},
   "source": [
    "# Observations about Runtimes:\n",
    "As seen in the plots and functions above, popular runtimes over the years are between 90 and 100 minutes.\n",
    "Maximum movies fell in the 107-117 range.\n",
    "The distribution is right skewed."
   ]
  },
  {
   "cell_type": "markdown",
   "metadata": {},
   "source": [
    "# Popularity\n"
   ]
  },
  {
   "cell_type": "markdown",
   "metadata": {},
   "source": [
    "We wish to determine if over the years, what is the likely rating a movie will receive\n",
    "Accordingly, we use a histogram to observe the counts of popularity from our new dataset\n",
    "Maximum counts will reflect the typical popularity rating of movies"
   ]
  },
  {
   "cell_type": "code",
   "execution_count": 55,
   "metadata": {},
   "outputs": [
    {
     "data": {
      "image/png": "[encoded data removed]",
      "text/plain": [
       "<matplotlib.figure.Figure at 0x215a4f7f588>"
      ]
     },
     "metadata": {},
     "output_type": "display_data"
    }
   ],
   "source": [
    "df_new['popularity'].hist(bins=24)\n",
    "plt.xlabel('Popularity')\n",
    "plt.ylabel('Counts')\n",
    "plt.title('Popularity Over the Years');"
   ]
  },
  {
   "cell_type": "code",
   "execution_count": 26,
   "metadata": {},
   "outputs": [
    {
     "data": {
      "text/plain": [
       "count    3265.000000\n",
       "mean       22.531899\n",
       "std        33.532140\n",
       "min         0.000372\n",
       "25%         6.337063\n",
       "50%        14.745194\n",
       "75%        28.540267\n",
       "max       875.581305\n",
       "Name: popularity, dtype: float64"
      ]
     },
     "execution_count": 26,
     "metadata": {},
     "output_type": "execute_result"
    }
   ],
   "source": [
    "df_new['popularity'].describe()"
   ]
  },
  {
   "cell_type": "markdown",
   "metadata": {},
   "source": [
    "# Observations about Popularity Ratings:"
   ]
  },
  {
   "cell_type": "markdown",
   "metadata": {},
   "source": [
    "\n",
    "The distribution is skewed to right.\n"
   ]
  },
  {
   "cell_type": "markdown",
   "metadata": {},
   "source": [
    "# Revenue"
   ]
  },
  {
   "cell_type": "markdown",
   "metadata": {},
   "source": [
    "We wish to determine if over the years, what is the likely revenue a movie will generate\n",
    "Accordingly, we use a histogram to observe the counts of revenues from our dataset\n",
    "Maximum counts will reflect the typical revenue earned by movies"
   ]
  },
  {
   "cell_type": "code",
   "execution_count": 28,
   "metadata": {},
   "outputs": [
    {
     "data": {
      "image/png": "[encoded data removed]",
      "text/plain": [
       "<matplotlib.figure.Figure at 0x215a5462a58>"
      ]
     },
     "metadata": {},
     "output_type": "display_data"
    }
   ],
   "source": [
    "df_new['revenue'].hist(bins=24)\n",
    "plt.xlabel('Revenue')\n",
    "plt.ylabel('Counts')\n",
    "plt.title('Revenue Over the Years');"
   ]
  },
  {
   "cell_type": "code",
   "execution_count": 29,
   "metadata": {},
   "outputs": [
    {
     "data": {
      "text/plain": [
       "count    3.265000e+03\n",
       "mean     8.838806e+07\n",
       "std      1.575828e+08\n",
       "min      0.000000e+00\n",
       "25%      8.378530e+05\n",
       "50%      2.939791e+07\n",
       "75%      1.028258e+08\n",
       "max      1.519558e+09\n",
       "Name: revenue, dtype: float64"
      ]
     },
     "execution_count": 29,
     "metadata": {},
     "output_type": "execute_result"
    }
   ],
   "source": [
    "df_new['revenue'].describe()"
   ]
  },
  {
   "cell_type": "markdown",
   "metadata": {},
   "source": [
    "# Observations of Revenues:\n",
    "\n",
    "From the plots and histogram, we can see that:\n",
    "\n",
    "Distribution is right skewed.\n",
    "Revenues vary widely.\n",
    "Most movie revenues fall in the 8.838806e+07 to 1.028258e+08 ranges. `"
   ]
  },
  {
   "cell_type": "markdown",
   "metadata": {},
   "source": [
    "### Research Question 2 \n",
    "\n",
    "What are variables that are associated with the revenues of movies spanning over the years? If so, by how much?"
   ]
  },
  {
   "cell_type": "code",
   "execution_count": 56,
   "metadata": {},
   "outputs": [
    {
     "data": {
      "text/html": [
       "<div>\n",
       "<style>\n",
       "    .dataframe thead tr:only-child th {\n",
       "        text-align: right;\n",
       "    }\n",
       "\n",
       "    .dataframe thead th {\n",
       "        text-align: left;\n",
       "    }\n",
       "\n",
       "    .dataframe tbody tr th {\n",
       "        vertical-align: top;\n",
       "    }\n",
       "</style>\n",
       "<table border=\"1\" class=\"dataframe\">\n",
       "  <thead>\n",
       "    <tr style=\"text-align: right;\">\n",
       "      <th></th>\n",
       "      <th>budget</th>\n",
       "      <th>id</th>\n",
       "      <th>popularity</th>\n",
       "      <th>revenue</th>\n",
       "      <th>runtime</th>\n",
       "      <th>vote_average</th>\n",
       "      <th>vote_count</th>\n",
       "      <th>movie_id</th>\n",
       "    </tr>\n",
       "  </thead>\n",
       "  <tbody>\n",
       "    <tr>\n",
       "      <th>budget</th>\n",
       "      <td>1.000000</td>\n",
       "      <td>-0.061490</td>\n",
       "      <td>0.479824</td>\n",
       "      <td>0.741718</td>\n",
       "      <td>0.262367</td>\n",
       "      <td>0.076090</td>\n",
       "      <td>0.604238</td>\n",
       "      <td>-0.061553</td>\n",
       "    </tr>\n",
       "    <tr>\n",
       "      <th>id</th>\n",
       "      <td>-0.061490</td>\n",
       "      <td>1.000000</td>\n",
       "      <td>0.052663</td>\n",
       "      <td>-0.039284</td>\n",
       "      <td>-0.158207</td>\n",
       "      <td>-0.284500</td>\n",
       "      <td>0.006284</td>\n",
       "      <td>0.999959</td>\n",
       "    </tr>\n",
       "    <tr>\n",
       "      <th>popularity</th>\n",
       "      <td>0.479824</td>\n",
       "      <td>0.052663</td>\n",
       "      <td>1.000000</td>\n",
       "      <td>0.622920</td>\n",
       "      <td>0.206758</td>\n",
       "      <td>0.253679</td>\n",
       "      <td>0.758362</td>\n",
       "      <td>0.052593</td>\n",
       "    </tr>\n",
       "    <tr>\n",
       "      <th>revenue</th>\n",
       "      <td>0.741718</td>\n",
       "      <td>-0.039284</td>\n",
       "      <td>0.622920</td>\n",
       "      <td>1.000000</td>\n",
       "      <td>0.255656</td>\n",
       "      <td>0.199144</td>\n",
       "      <td>0.787376</td>\n",
       "      <td>-0.039264</td>\n",
       "    </tr>\n",
       "    <tr>\n",
       "      <th>runtime</th>\n",
       "      <td>0.262367</td>\n",
       "      <td>-0.158207</td>\n",
       "      <td>0.206758</td>\n",
       "      <td>0.255656</td>\n",
       "      <td>1.000000</td>\n",
       "      <td>0.379182</td>\n",
       "      <td>0.266097</td>\n",
       "      <td>-0.158298</td>\n",
       "    </tr>\n",
       "    <tr>\n",
       "      <th>vote_average</th>\n",
       "      <td>0.076090</td>\n",
       "      <td>-0.284500</td>\n",
       "      <td>0.253679</td>\n",
       "      <td>0.199144</td>\n",
       "      <td>0.379182</td>\n",
       "      <td>1.000000</td>\n",
       "      <td>0.312380</td>\n",
       "      <td>-0.284508</td>\n",
       "    </tr>\n",
       "    <tr>\n",
       "      <th>vote_count</th>\n",
       "      <td>0.604238</td>\n",
       "      <td>0.006284</td>\n",
       "      <td>0.758362</td>\n",
       "      <td>0.787376</td>\n",
       "      <td>0.266097</td>\n",
       "      <td>0.312380</td>\n",
       "      <td>1.000000</td>\n",
       "      <td>0.006158</td>\n",
       "    </tr>\n",
       "    <tr>\n",
       "      <th>movie_id</th>\n",
       "      <td>-0.061553</td>\n",
       "      <td>0.999959</td>\n",
       "      <td>0.052593</td>\n",
       "      <td>-0.039264</td>\n",
       "      <td>-0.158298</td>\n",
       "      <td>-0.284508</td>\n",
       "      <td>0.006158</td>\n",
       "      <td>1.000000</td>\n",
       "    </tr>\n",
       "  </tbody>\n",
       "</table>\n",
       "</div>"
      ],
      "text/plain": [
       "                budget        id  popularity   revenue   runtime  \\\n",
       "budget        1.000000 -0.061490    0.479824  0.741718  0.262367   \n",
       "id           -0.061490  1.000000    0.052663 -0.039284 -0.158207   \n",
       "popularity    0.479824  0.052663    1.000000  0.622920  0.206758   \n",
       "revenue       0.741718 -0.039284    0.622920  1.000000  0.255656   \n",
       "runtime       0.262367 -0.158207    0.206758  0.255656  1.000000   \n",
       "vote_average  0.076090 -0.284500    0.253679  0.199144  0.379182   \n",
       "vote_count    0.604238  0.006284    0.758362  0.787376  0.266097   \n",
       "movie_id     -0.061553  0.999959    0.052593 -0.039264 -0.158298   \n",
       "\n",
       "              vote_average  vote_count  movie_id  \n",
       "budget            0.076090    0.604238 -0.061553  \n",
       "id               -0.284500    0.006284  0.999959  \n",
       "popularity        0.253679    0.758362  0.052593  \n",
       "revenue           0.199144    0.787376 -0.039264  \n",
       "runtime           0.379182    0.266097 -0.158298  \n",
       "vote_average      1.000000    0.312380 -0.284508  \n",
       "vote_count        0.312380    1.000000  0.006158  \n",
       "movie_id         -0.284508    0.006158  1.000000  "
      ]
     },
     "execution_count": 56,
     "metadata": {},
     "output_type": "execute_result"
    }
   ],
   "source": [
    "# Continue to explore the data to address your additional research\n",
    "#   questions. Add more headers as needed if you have more questions to\n",
    "#   investigate.\n",
    "df_new.corr(method='pearson')"
   ]
  },
  {
   "cell_type": "markdown",
   "metadata": {},
   "source": [
    "# Revenue vs Popularity:"
   ]
  },
  {
   "cell_type": "code",
   "execution_count": 57,
   "metadata": {},
   "outputs": [
    {
     "data": {
      "image/png": "[encoded data removed]",
      "text/plain": [
       "<matplotlib.figure.Figure at 0x215a4f7fa58>"
      ]
     },
     "metadata": {},
     "output_type": "display_data"
    }
   ],
   "source": [
    "plt.scatter(x=df_new['revenue'], y=df_new['popularity'])\n",
    "plt.xlabel('Revenue')\n",
    "plt.ylabel('Popularity')\n",
    "plt.title('Revenue vs Popularity Over the Years');"
   ]
  },
  {
   "cell_type": "markdown",
   "metadata": {},
   "source": [
    "# Observations- Revenue vs Popularity:\n",
    "The correlation computed from function is evident in the scatterplot.\n",
    "Popularity is proportional to revenues.\n",
    "The few outliers that grossed medium but were rated extremely high need to be looked into."
   ]
  },
  {
   "cell_type": "markdown",
   "metadata": {},
   "source": [
    "# Revenue vs Vote counts:"
   ]
  },
  {
   "cell_type": "code",
   "execution_count": 60,
   "metadata": {},
   "outputs": [
    {
     "data": {
      "image/png": "[encoded data removed]",
      "text/plain": [
       "<matplotlib.figure.Figure at 0x215a5dfb6d8>"
      ]
     },
     "metadata": {},
     "output_type": "display_data"
    }
   ],
   "source": [
    "plt.scatter(x=df_new['revenue'], y=df_new['vote_count'])\n",
    "plt.xlabel('Revenue')\n",
    "plt.ylabel('Vote Count')\n",
    "plt.title('Revenue vs Vote Count Over the Years');"
   ]
  },
  {
   "cell_type": "markdown",
   "metadata": {},
   "source": [
    "# Observations- Revenue vs Vote Count:\n",
    "The correlation computed from function is evident in the scatterplot.\n",
    "Vote count is roughly proportional to revenues.\n",
    "Even in this plot, we observe that a few sample had high counts but did not gross commensurately in revenue.\n",
    "This plot points us to scrutinize the vote counts and type of votes if possible or any other factors influencing voting such as genres, cast, etc."
   ]
  },
  {
   "cell_type": "markdown",
   "metadata": {},
   "source": [
    "# Revenue vs Vote averages:"
   ]
  },
  {
   "cell_type": "code",
   "execution_count": 59,
   "metadata": {},
   "outputs": [
    {
     "data": {
      "image/png": "[encoded data removed]",
      "text/plain": [
       "<matplotlib.figure.Figure at 0x215a3c3fe80>"
      ]
     },
     "metadata": {},
     "output_type": "display_data"
    }
   ],
   "source": [
    "plt.scatter(x=df_new['revenue'], y=df_new['vote_average'])\n",
    "plt.xlabel('Revenue')\n",
    "plt.ylabel('Vote Averages')\n",
    "plt.title('Revenue vs Vote Averages Over the Years');"
   ]
  },
  {
   "cell_type": "markdown",
   "metadata": {},
   "source": [
    "# Observations- Revenue vs Vote Average:\n",
    "The correlation computed from function is evident in the scatterplot.\n",
    "Vote averages are inversely proportional to revenues.\n",
    "Considering this plot and the previous, we can infer voting variables as influencing revenues. This means that detailed analysis is required to assess the outliers and possibly pursue a detailed line of investigation based on vote counts and averages."
   ]
  },
  {
   "cell_type": "markdown",
   "metadata": {},
   "source": [
    "<a id='conclusions'></a>\n",
    "## Conclusions\n",
    "\n",
    "From our analysis, we discovered that over the years, there are patterns to runtimes, popularity and revenues.\n",
    "While only tentative, we have found that popular runtimes range between 90 and 100 minutes.\n",
    "Revenues showed a wider range, but the most likely range was 8.838806e+07 to 1.028258e+08.\n",
    "We also analyzed multiple variables. Specifically, we chose to analyze over time [release_date], the effect of particular variables [votes and popularity] on our factor of interest [revenue].\n",
    "Based on this analysis, we found that over the years, popularity and revenue show a direct relation.\n",
    "Vote counts and revenue are related positively while vote averages are inversely related to revenues.\n",
    "However, these relations are merely correlations and do not imply causation.\n",
    "These lines of analysis point us to the need for further investigation, especially with regards to votes."
   ]
  },
  {
   "cell_type": "markdown",
   "metadata": {
    "collapsed": true
   },
   "source": [
    "# Thank you"
   ]
  },
  {
   "cell_type": "code",
   "execution_count": null,
   "metadata": {
    "collapsed": true
   },
   "outputs": [],
   "source": []
  }
 ],
 "metadata": {
  "kernelspec": {
   "display_name": "Python [default]",
   "language": "python",
   "name": "python3"
  },
  "language_info": {
   "codemirror_mode": {
    "name": "ipython",
    "version": 3
   },
   "file_extension": ".py",
   "mimetype": "text/x-python",
   "name": "python",
   "nbconvert_exporter": "python",
   "pygments_lexer": "ipython3",
   "version": "3.6.3"
  }
 },
 "nbformat": 4,
 "nbformat_minor": 2
}
